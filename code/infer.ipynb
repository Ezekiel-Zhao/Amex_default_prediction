{
 "cells": [
  {
   "cell_type": "code",
   "execution_count": null,
   "metadata": {},
   "outputs": [],
   "source": [
    "import pandas as pd\n",
    "import numpy as np"
   ]
  },
  {
   "cell_type": "code",
   "execution_count": 3,
   "metadata": {},
   "outputs": [],
   "source": [
    "submit = pd.read_csv('../input/amex-default-prediction/sample_submission.csv')\n",
    "submit['prediction'] = 0"
   ]
  },
  {
   "cell_type": "code",
   "execution_count": 7,
   "metadata": {},
   "outputs": [],
   "source": [
    "\n",
    "\n",
    "xgb0 = pd.read_csv('../sub/submission_xgb.csv') \n",
    "lgb1 = pd.read_csv('../sub/test_lgbm_5fold_seed42.csv') \n",
    "lgb2 = pd.read_csv('../sub/test_lgbm_5fold_seed42_v2.csv') \n",
    "\n",
    "submit['prediction'] =  xgb0['prediction']*0.2 + lgb1['prediction']*0.4 +lgb2['prediction']*0.4\n",
    "submit.to_csv('submission.csv', index=None)"
   ]
  }
 ],
 "metadata": {
  "kernelspec": {
   "display_name": "Python 3 (ipykernel)",
   "language": "python",
   "name": "python3"
  },
  "language_info": {
   "codemirror_mode": {
    "name": "ipython",
    "version": 3
   },
   "file_extension": ".py",
   "mimetype": "text/x-python",
   "name": "python",
   "nbconvert_exporter": "python",
   "pygments_lexer": "ipython3",
   "version": "3.9.7"
  },
  "vscode": {
   "interpreter": {
    "hash": "e167549371e743361d6ad77f7605beb6f92800b8233d080bf64715463c120c5e"
   }
  }
 },
 "nbformat": 4,
 "nbformat_minor": 2
}
